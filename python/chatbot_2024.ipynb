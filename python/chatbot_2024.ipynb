{
  "nbformat": 4,
  "nbformat_minor": 0,
  "metadata": {
    "colab": {
      "provenance": []
    },
    "kernelspec": {
      "name": "python3",
      "display_name": "Python 3"
    },
    "language_info": {
      "name": "python"
    }
  },
  "cells": [
    {
      "cell_type": "code",
      "execution_count": 1,
      "metadata": {
        "id": "l6tWmqg4Y-Ta"
      },
      "outputs": [],
      "source": [
        "import nltk\n",
        "from nltk.stem import WordNetLemmatizer\n",
        "import json\n",
        "import random\n",
        "import numpy as np\n",
        "from tensorflow.keras.models import Sequential\n",
        "from tensorflow.keras.layers import Dense, Dropout\n",
        "import os\n",
        "#dir_actual = os.path.dirname(__file__)\n",
        "#dir_actual = os.path.dirname(os.path.abspath(__file__))\n"
      ]
    },
    {
      "cell_type": "code",
      "source": [
        "nltk.download('punkt')\n",
        "nltk.download('wordnet')"
      ],
      "metadata": {
        "colab": {
          "base_uri": "https://localhost:8080/"
        },
        "id": "_esv16slZz0D",
        "outputId": "999fcf52-7489-48ff-fce2-ae665cff8130"
      },
      "execution_count": 2,
      "outputs": [
        {
          "output_type": "stream",
          "name": "stderr",
          "text": [
            "[nltk_data] Downloading package punkt to /root/nltk_data...\n",
            "[nltk_data]   Package punkt is already up-to-date!\n",
            "[nltk_data] Downloading package wordnet to /root/nltk_data...\n",
            "[nltk_data]   Package wordnet is already up-to-date!\n"
          ]
        },
        {
          "output_type": "execute_result",
          "data": {
            "text/plain": [
              "True"
            ]
          },
          "metadata": {},
          "execution_count": 2
        }
      ]
    },
    {
      "cell_type": "code",
      "source": [
        "\n",
        "\n",
        "# Construye la ruta al archivo datos.json\n",
        "ruta_datos_json = os.path.join( 'datos.json')\n",
        "\n",
        "\n",
        "# Cargar datos desde el archivo JSON\n",
        "with open(ruta_datos_json) as file:\n",
        "    datos = json.load(file)\n",
        "\n",
        "# Preprocesar los datos\n",
        "lemmatizer = WordNetLemmatizer()\n",
        "\n",
        "palabras = []\n",
        "tags = []\n",
        "intents = datos['intents']\n",
        "\n",
        "entrenamiento = []\n",
        "\n",
        "for intent in intents:\n",
        "    for pattern in intent['patterns']:\n",
        "        # Tokenizar y lematizar las palabras\n",
        "        words = nltk.word_tokenize(pattern)\n",
        "        palabras.extend(words)\n",
        "        tags.append(intent['tag'])\n",
        "\n"
      ],
      "metadata": {
        "id": "x7JGArLuZMAb"
      },
      "execution_count": 3,
      "outputs": []
    },
    {
      "cell_type": "code",
      "source": [
        "palabras = [lemmatizer.lemmatize(word.lower()) for word in palabras if word.isalnum()]\n",
        "palabras = sorted(list(set(palabras)))\n",
        "\n",
        "tags = sorted(list(set(tags)))\n",
        "\n",
        "for intent in intents:\n",
        "    for pattern in intent['patterns']:\n",
        "        # Bolsa de palabras para cada patrón\n",
        "        bolsa_palabras = [lemmatizer.lemmatize(word.lower()) for word in nltk.word_tokenize(pattern) if word.isalnum()]\n",
        "\n",
        "        # Codificación de un patrón en una matriz de entrada\n",
        "        fila_entrenamiento = [1 if palabra in bolsa_palabras else 0 for palabra in palabras]\n",
        "\n",
        "        # Codificación de la etiqueta en una matriz de salida\n",
        "        etiqueta = [0] * len(tags)\n",
        "        etiqueta[tags.index(intent['tag'])] = 1\n",
        "\n",
        "        # Concatenar las listas en lugar de anidarlas\n",
        "        entrenamiento.append(fila_entrenamiento + etiqueta)\n",
        "\n",
        "random.shuffle(entrenamiento)\n",
        "entrenamiento = np.array(entrenamiento)\n",
        "\n",
        "# Separar datos de entrada y salida\n",
        "X_train = np.array([entrada[:len(palabras)] for entrada in entrenamiento])\n",
        "y_train = np.array([etiqueta[len(palabras):] for etiqueta in entrenamiento])\n",
        "\n",
        "# Construir el modelo de red neuronal\n",
        "modelo = Sequential()\n",
        "modelo.add(Dense(256, input_shape=(len(palabras),), activation='relu'))\n",
        "modelo.add(Dropout(0.5))\n",
        "modelo.add(Dense(128, activation='relu'))\n",
        "modelo.add(Dropout(0.5))\n",
        "modelo.add(Dense(64, activation='relu'))\n",
        "modelo.add(Dropout(0.5))\n",
        "modelo.add(Dense(len(tags), activation='softmax'))\n",
        "\n",
        "# Compilar el modelo\n",
        "modelo.compile(optimizer='adam', loss='categorical_crossentropy', metrics=['accuracy'])\n",
        "\n",
        "# Entrenar el modelo\n",
        "historial_entrenamiento = modelo.fit(X_train, y_train, epochs=500, batch_size=5, verbose=1)\n",
        "\n",
        "# Guardar el modelo entrenado\n",
        "modelo.save('chatbot_modelo.h5')\n",
        "print(\"Modelo entrenado y guardado exitosamente.\")\n",
        "\n",
        "# Función para procesar el mensaje del usuario y obtener una respuesta del chatbot\n",
        "def procesar_mensaje(mensaje):\n",
        "    # Bolsa de palabras para el mensaje del usuario\n",
        "    bolsa_palabras = [lemmatizer.lemmatize(word.lower()) for word in nltk.word_tokenize(mensaje) if word.isalnum()]\n",
        "\n",
        "    # Codificación del mensaje en una matriz de entrada\n",
        "    entrada_usuario = np.array([1 if palabra in bolsa_palabras else 0 for palabra in palabras])\n",
        "\n",
        "    # Predicción del modelo\n",
        "    resultado = modelo.predict(entrada_usuario.reshape(1, -1))\n",
        "\n",
        "    # Obtener la etiqueta predicha\n",
        "    predicha_tag = tags[np.argmax(resultado)]\n",
        "\n",
        "    # Buscar la respuesta asociada a la etiqueta\n",
        "    for intent in intents:\n",
        "        if intent['tag'] == predicha_tag:\n",
        "            respuesta = random.choice(intent['responses'])\n",
        "            return respuesta"
      ],
      "metadata": {
        "id": "9_yJZgbPZPNM"
      },
      "execution_count": null,
      "outputs": []
    },
    {
      "cell_type": "code",
      "source": [],
      "metadata": {
        "id": "o4RiZjAoNS4M"
      },
      "execution_count": 4,
      "outputs": []
    },
    {
      "cell_type": "code",
      "source": [
        "while True:\n",
        "    # Obtener mensaje del usuario\n",
        "    mensaje_usuario = input(\"Usuario: \")\n",
        "\n",
        "    # Salir si el usuario escribe \"salir\"\n",
        "    if mensaje_usuario.lower() == 'salir':\n",
        "        print(\"¡Hasta luego!\")\n",
        "        break\n",
        "\n",
        "    # Procesar el mensaje y obtener la respuesta del chatbot\n",
        "    respuesta_chatbot = procesar_mensaje(mensaje_usuario)\n",
        "    print(\"Chatbot:\", respuesta_chatbot)"
      ],
      "metadata": {
        "id": "kAeOD0kRbR25",
        "colab": {
          "base_uri": "https://localhost:8080/"
        },
        "outputId": "794bc1bf-5cfc-4986-b115-cb55dd994bc8"
      },
      "execution_count": null,
      "outputs": [
        {
          "output_type": "stream",
          "name": "stdout",
          "text": [
            "Usuario: hola\n",
            "1/1 [==============================] - 0s 200ms/step\n",
            "Chatbot: Hola, ¿en qué puedo ayudarte ahora?\n",
            "Usuario: becas\n",
            "1/1 [==============================] - 0s 25ms/step\n",
            "Chatbot: Las becas se otorgan por méritos como alto rendimiento, participación en semilleros o presentación de proyectos.\n",
            "Usuario: inscripcion\n",
            "1/1 [==============================] - 0s 23ms/step\n",
            "Chatbot: ¡Hasta luego!\n",
            "Usuario: inscripcion\n",
            "1/1 [==============================] - 0s 25ms/step\n",
            "Chatbot: ¡Hasta luego!\n",
            "Usuario: proceso inscripcion\n",
            "1/1 [==============================] - 0s 23ms/step\n",
            "Chatbot: La Matrícula Académica para estudiantes nuevos es automática. Los estudiantes antiguos pueden matricular asignaturas con su usuario y contraseña en las fechas asignadas.\n",
            "Usuario: inscripción\n",
            "1/1 [==============================] - 0s 23ms/step\n",
            "Chatbot: Para inscribirte en Unibarranquilla, debes cargar en línea los documentos como el Diploma de bachiller y los resultados de las Pruebas ICFES Saber 11 en formato PDF legible.\n"
          ]
        }
      ]
    }
  ]
}